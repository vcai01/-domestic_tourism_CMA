{
 "cells": [
  {
   "cell_type": "markdown",
   "metadata": {},
   "source": [
    "# Project 1: Traveling in Candadian Metropolitan Areas"
   ]
  },
  {
   "cell_type": "markdown",
   "metadata": {},
   "source": [
    "## 1. Overview"
   ]
  },
  {
   "cell_type": "markdown",
   "metadata": {},
   "source": [
    "I have conducted an Exploratory Data Analysis on the data set of <a href=\"https://www150.statcan.gc.ca/t1/tbl1/en/tv.action?pid=2410003001\">Travel Survey of Residents of Canada</a>\n",
    " from <a href=\"https://www150.statcan.gc.ca/n1//en/type/data?MM=1\">Statistics Canada</a> to understand the data structure, and find out answers to the following questions:\n",
    "    \n",
    "1. Top 10 destinations in 2017\n",
    "2. Trends in domestic tourism spending and visitation in Canadian Metropolitan Areas from 2011 to 2017"
   ]
  },
  {
   "cell_type": "code",
   "execution_count": 86,
   "metadata": {},
   "outputs": [],
   "source": [
    "#First, let's install a Python library with conda for reading data from Statistics Canada:\n",
    "#conda install -c ian.e.preston stats_can\n",
    "\n",
    "import pandas as pd\n",
    "import matplotlib.pyplot as plt\n",
    "import seaborn as sns\n",
    "from stats_can import StatsCan\n",
    "\n",
    "sc = StatsCan()"
   ]
  },
  {
   "cell_type": "code",
   "execution_count": 87,
   "metadata": {},
   "outputs": [],
   "source": [
    "#Source: Table: 24-10-0030-01, Statistics Canada\n",
    "data = sc.table_to_df(\"24-10-0030-01\")"
   ]
  },
  {
   "cell_type": "code",
   "execution_count": 88,
   "metadata": {},
   "outputs": [
    {
     "data": {
      "text/html": [
       "<div>\n",
       "<style scoped>\n",
       "    .dataframe tbody tr th:only-of-type {\n",
       "        vertical-align: middle;\n",
       "    }\n",
       "\n",
       "    .dataframe tbody tr th {\n",
       "        vertical-align: top;\n",
       "    }\n",
       "\n",
       "    .dataframe thead th {\n",
       "        text-align: right;\n",
       "    }\n",
       "</style>\n",
       "<table border=\"1\" class=\"dataframe\">\n",
       "  <thead>\n",
       "    <tr style=\"text-align: right;\">\n",
       "      <th></th>\n",
       "      <th>REF_DATE</th>\n",
       "      <th>GEO</th>\n",
       "      <th>DGUID</th>\n",
       "      <th>Visit duration</th>\n",
       "      <th>Characteristics</th>\n",
       "      <th>UOM</th>\n",
       "      <th>UOM_ID</th>\n",
       "      <th>SCALAR_FACTOR</th>\n",
       "      <th>SCALAR_ID</th>\n",
       "      <th>VECTOR</th>\n",
       "      <th>COORDINATE</th>\n",
       "      <th>VALUE</th>\n",
       "      <th>STATUS</th>\n",
       "      <th>SYMBOL</th>\n",
       "      <th>TERMINATED</th>\n",
       "      <th>DECIMALS</th>\n",
       "    </tr>\n",
       "  </thead>\n",
       "  <tbody>\n",
       "    <tr>\n",
       "      <th>0</th>\n",
       "      <td>2011-01-01</td>\n",
       "      <td>St. John's, Newfoundland and Labrador</td>\n",
       "      <td>2011S0503001</td>\n",
       "      <td>All census metropolitan areas (CMA)  visits</td>\n",
       "      <td>Number of census metropolitan areas (CMA) visits</td>\n",
       "      <td>Number of visits</td>\n",
       "      <td>228</td>\n",
       "      <td>thousands</td>\n",
       "      <td>3</td>\n",
       "      <td>v88856249</td>\n",
       "      <td>1.1.1</td>\n",
       "      <td>1166.0</td>\n",
       "      <td>B</td>\n",
       "      <td>NaN</td>\n",
       "      <td>NaN</td>\n",
       "      <td>0</td>\n",
       "    </tr>\n",
       "    <tr>\n",
       "      <th>1</th>\n",
       "      <td>2011-01-01</td>\n",
       "      <td>St. John's, Newfoundland and Labrador</td>\n",
       "      <td>2011S0503001</td>\n",
       "      <td>All census metropolitan areas (CMA)  visits</td>\n",
       "      <td>Visits expenditures</td>\n",
       "      <td>Dollars</td>\n",
       "      <td>81</td>\n",
       "      <td>thousands</td>\n",
       "      <td>3</td>\n",
       "      <td>v88856250</td>\n",
       "      <td>1.1.2</td>\n",
       "      <td>324276.0</td>\n",
       "      <td>B</td>\n",
       "      <td>NaN</td>\n",
       "      <td>NaN</td>\n",
       "      <td>0</td>\n",
       "    </tr>\n",
       "    <tr>\n",
       "      <th>2</th>\n",
       "      <td>2011-01-01</td>\n",
       "      <td>St. John's, Newfoundland and Labrador</td>\n",
       "      <td>2011S0503001</td>\n",
       "      <td>All census metropolitan areas (CMA)  visits</td>\n",
       "      <td>Nights</td>\n",
       "      <td>Nights</td>\n",
       "      <td>225</td>\n",
       "      <td>thousands</td>\n",
       "      <td>3</td>\n",
       "      <td>v88856251</td>\n",
       "      <td>1.1.3</td>\n",
       "      <td>1776.0</td>\n",
       "      <td>B</td>\n",
       "      <td>NaN</td>\n",
       "      <td>NaN</td>\n",
       "      <td>0</td>\n",
       "    </tr>\n",
       "    <tr>\n",
       "      <th>3</th>\n",
       "      <td>2011-01-01</td>\n",
       "      <td>St. John's, Newfoundland and Labrador</td>\n",
       "      <td>2011S0503001</td>\n",
       "      <td>Same day census metropolitan areas (CMA)  visits</td>\n",
       "      <td>Number of census metropolitan areas (CMA) visits</td>\n",
       "      <td>Number of visits</td>\n",
       "      <td>228</td>\n",
       "      <td>thousands</td>\n",
       "      <td>3</td>\n",
       "      <td>v88856252</td>\n",
       "      <td>1.2.1</td>\n",
       "      <td>636.0</td>\n",
       "      <td>B</td>\n",
       "      <td>NaN</td>\n",
       "      <td>NaN</td>\n",
       "      <td>0</td>\n",
       "    </tr>\n",
       "    <tr>\n",
       "      <th>4</th>\n",
       "      <td>2011-01-01</td>\n",
       "      <td>St. John's, Newfoundland and Labrador</td>\n",
       "      <td>2011S0503001</td>\n",
       "      <td>Same day census metropolitan areas (CMA)  visits</td>\n",
       "      <td>Visits expenditures</td>\n",
       "      <td>Dollars</td>\n",
       "      <td>81</td>\n",
       "      <td>thousands</td>\n",
       "      <td>3</td>\n",
       "      <td>v88856253</td>\n",
       "      <td>1.2.2</td>\n",
       "      <td>61267.0</td>\n",
       "      <td>C</td>\n",
       "      <td>NaN</td>\n",
       "      <td>NaN</td>\n",
       "      <td>0</td>\n",
       "    </tr>\n",
       "  </tbody>\n",
       "</table>\n",
       "</div>"
      ],
      "text/plain": [
       "    REF_DATE                                    GEO         DGUID  \\\n",
       "0 2011-01-01  St. John's, Newfoundland and Labrador  2011S0503001   \n",
       "1 2011-01-01  St. John's, Newfoundland and Labrador  2011S0503001   \n",
       "2 2011-01-01  St. John's, Newfoundland and Labrador  2011S0503001   \n",
       "3 2011-01-01  St. John's, Newfoundland and Labrador  2011S0503001   \n",
       "4 2011-01-01  St. John's, Newfoundland and Labrador  2011S0503001   \n",
       "\n",
       "                                     Visit duration  \\\n",
       "0       All census metropolitan areas (CMA)  visits   \n",
       "1       All census metropolitan areas (CMA)  visits   \n",
       "2       All census metropolitan areas (CMA)  visits   \n",
       "3  Same day census metropolitan areas (CMA)  visits   \n",
       "4  Same day census metropolitan areas (CMA)  visits   \n",
       "\n",
       "                                    Characteristics               UOM UOM_ID  \\\n",
       "0  Number of census metropolitan areas (CMA) visits  Number of visits    228   \n",
       "1                               Visits expenditures           Dollars     81   \n",
       "2                                            Nights            Nights    225   \n",
       "3  Number of census metropolitan areas (CMA) visits  Number of visits    228   \n",
       "4                               Visits expenditures           Dollars     81   \n",
       "\n",
       "  SCALAR_FACTOR SCALAR_ID     VECTOR COORDINATE     VALUE STATUS SYMBOL  \\\n",
       "0     thousands         3  v88856249      1.1.1    1166.0      B    NaN   \n",
       "1     thousands         3  v88856250      1.1.2  324276.0      B    NaN   \n",
       "2     thousands         3  v88856251      1.1.3    1776.0      B    NaN   \n",
       "3     thousands         3  v88856252      1.2.1     636.0      B    NaN   \n",
       "4     thousands         3  v88856253      1.2.2   61267.0      C    NaN   \n",
       "\n",
       "  TERMINATED DECIMALS  \n",
       "0        NaN        0  \n",
       "1        NaN        0  \n",
       "2        NaN        0  \n",
       "3        NaN        0  \n",
       "4        NaN        0  "
      ]
     },
     "execution_count": 88,
     "metadata": {},
     "output_type": "execute_result"
    }
   ],
   "source": [
    "data.head()"
   ]
  },
  {
   "cell_type": "markdown",
   "metadata": {},
   "source": [
    "There are 1617 rows and 16 columns in the dataset and no missing values from REF_DATE to STATUS."
   ]
  },
  {
   "cell_type": "code",
   "execution_count": 89,
   "metadata": {},
   "outputs": [
    {
     "name": "stdout",
     "output_type": "stream",
     "text": [
      "<class 'pandas.core.frame.DataFrame'>\n",
      "Int64Index: 1617 entries, 0 to 1616\n",
      "Data columns (total 16 columns):\n",
      "REF_DATE           1617 non-null datetime64[ns]\n",
      "GEO                1617 non-null category\n",
      "DGUID              1617 non-null category\n",
      "Visit duration     1617 non-null object\n",
      "Characteristics    1617 non-null object\n",
      "UOM                1617 non-null category\n",
      "UOM_ID             1617 non-null category\n",
      "SCALAR_FACTOR      1617 non-null category\n",
      "SCALAR_ID          1617 non-null category\n",
      "VECTOR             1617 non-null category\n",
      "COORDINATE         1617 non-null category\n",
      "VALUE              1617 non-null float64\n",
      "STATUS             1617 non-null category\n",
      "SYMBOL             0 non-null category\n",
      "TERMINATED         0 non-null category\n",
      "DECIMALS           1617 non-null category\n",
      "dtypes: category(12), datetime64[ns](1), float64(1), object(2)\n",
      "memory usage: 112.7+ KB\n"
     ]
    }
   ],
   "source": [
    "data.info()"
   ]
  },
  {
   "cell_type": "markdown",
   "metadata": {},
   "source": [
    "## 1.1 Categorical Variables"
   ]
  },
  {
   "cell_type": "markdown",
   "metadata": {},
   "source": [
    "#### Year"
   ]
  },
  {
   "cell_type": "markdown",
   "metadata": {},
   "source": [
    "The dataset contains the years from 2011 to 2017. Please note that the year of 2017 was the 150th anniversary of Canada and <a href=\"https://www.nytimes.com/interactive/2017/travel/places-to-visit.html\">The New York Times</a>  named Canada its top travel destination for 2017. Later we may explore and compare if there are any significant changes in the variables in the year."
   ]
  },
  {
   "cell_type": "code",
   "execution_count": 90,
   "metadata": {},
   "outputs": [
    {
     "data": {
      "text/plain": [
       "array([2011, 2012, 2013, 2014, 2015, 2016, 2017], dtype=int64)"
      ]
     },
     "execution_count": 90,
     "metadata": {},
     "output_type": "execute_result"
    }
   ],
   "source": [
    "data['YEAR'] = pd.DatetimeIndex(data['REF_DATE']).year\n",
    "\n",
    "data['YEAR'].unique()"
   ]
  },
  {
   "cell_type": "markdown",
   "metadata": {},
   "source": [
    "#### Area"
   ]
  },
  {
   "cell_type": "markdown",
   "metadata": {},
   "source": [
    "There are 33 census metropolitan areas (CMA) in Canada in the dataset. Do CMA include the three territories? Let's have a look as we are not 100% sure:"
   ]
  },
  {
   "cell_type": "code",
   "execution_count": 91,
   "metadata": {},
   "outputs": [
    {
     "data": {
      "text/plain": [
       "33"
      ]
     },
     "execution_count": 91,
     "metadata": {},
     "output_type": "execute_result"
    }
   ],
   "source": [
    "data['GEO'].nunique()"
   ]
  },
  {
   "cell_type": "code",
   "execution_count": 92,
   "metadata": {},
   "outputs": [
    {
     "data": {
      "text/plain": [
       "0"
      ]
     },
     "execution_count": 92,
     "metadata": {},
     "output_type": "execute_result"
    }
   ],
   "source": [
    "Territories = ['Yukon', ' Northwest', 'Nunavut']\n",
    "\n",
    "len(data[data['GEO'].str.contains('|'.join(Territories), case = False)])"
   ]
  },
  {
   "cell_type": "markdown",
   "metadata": {},
   "source": [
    "Now we are sure that the three territories are not included in CMA. Here is the province list in detail and there are ten in total."
   ]
  },
  {
   "cell_type": "code",
   "execution_count": 93,
   "metadata": {},
   "outputs": [
    {
     "data": {
      "text/plain": [
       "[St. John's, Newfoundland and Labrador, Halifax, Nova Scotia, Moncton, New Brunswick, Saint John, New Brunswick, Saguenay, Quebec, ..., Edmonton, Alberta, Kelowna, British Columbia, Abbotsford, British Columbia, Vancouver, British Columbia, Victoria, British Columbia]\n",
       "Length: 33\n",
       "Categories (33, object): [St. John's, Newfoundland and Labrador, Halifax, Nova Scotia, Moncton, New Brunswick, Saint John, New Brunswick, ..., Kelowna, British Columbia, Abbotsford, British Columbia, Vancouver, British Columbia, Victoria, British Columbia]"
      ]
     },
     "execution_count": 93,
     "metadata": {},
     "output_type": "execute_result"
    }
   ],
   "source": [
    "data['GEO'].unique()"
   ]
  },
  {
   "cell_type": "code",
   "execution_count": 94,
   "metadata": {},
   "outputs": [
    {
     "data": {
      "text/plain": [
       "10"
      ]
     },
     "execution_count": 94,
     "metadata": {},
     "output_type": "execute_result"
    }
   ],
   "source": [
    "data['Province'] = data['GEO'].apply(lambda x: x.split(', ')[1])\n",
    "\n",
    "data['Province'].nunique()"
   ]
  },
  {
   "cell_type": "markdown",
   "metadata": {},
   "source": [
    "#### Characteristics"
   ]
  },
  {
   "cell_type": "markdown",
   "metadata": {},
   "source": [
    "There’s three types of values here: number of visits, expenditures and nights."
   ]
  },
  {
   "cell_type": "code",
   "execution_count": 95,
   "metadata": {},
   "outputs": [
    {
     "data": {
      "text/plain": [
       "array(['Number of census metropolitan areas (CMA) visits',\n",
       "       'Visits expenditures', 'Nights'], dtype=object)"
      ]
     },
     "execution_count": 95,
     "metadata": {},
     "output_type": "execute_result"
    }
   ],
   "source": [
    "data['Characteristics'].unique()"
   ]
  },
  {
   "cell_type": "markdown",
   "metadata": {},
   "source": [
    "#### Visit Duration"
   ]
  },
  {
   "cell_type": "markdown",
   "metadata": {},
   "source": [
    "This data can be categorized by the type of visit: same-day, overnight, and the total. "
   ]
  },
  {
   "cell_type": "code",
   "execution_count": 96,
   "metadata": {},
   "outputs": [
    {
     "data": {
      "text/plain": [
       "array(['All census metropolitan areas (CMA)  visits',\n",
       "       'Same day census metropolitan areas (CMA)  visits',\n",
       "       'Overnight census metropolitan areas (CMA)  visits'], dtype=object)"
      ]
     },
     "execution_count": 96,
     "metadata": {},
     "output_type": "execute_result"
    }
   ],
   "source": [
    "data['Visit duration'].unique()"
   ]
  },
  {
   "cell_type": "markdown",
   "metadata": {},
   "source": [
    "## 1.2 Numerical Variables"
   ]
  },
  {
   "cell_type": "markdown",
   "metadata": {},
   "source": [
    "#### Value"
   ]
  },
  {
   "cell_type": "markdown",
   "metadata": {},
   "source": [
    "The VALUE variable has terrificly high standard deviation. If going back to check the table, we may find the VALUE is corresponding to the values in Characteristics and Visit duration and thus has different unit, which needs our further analysis."
   ]
  },
  {
   "cell_type": "code",
   "execution_count": 97,
   "metadata": {},
   "outputs": [
    {
     "data": {
      "text/plain": [
       "count    1.617000e+03\n",
       "mean     2.428424e+05\n",
       "std      5.903349e+05\n",
       "min      1.090000e+02\n",
       "25%      1.621000e+03\n",
       "50%      7.144000e+03\n",
       "75%      2.026450e+05\n",
       "max      5.568671e+06\n",
       "Name: VALUE, dtype: float64"
      ]
     },
     "execution_count": 97,
     "metadata": {},
     "output_type": "execute_result"
    }
   ],
   "source": [
    "data['VALUE'].describe()"
   ]
  },
  {
   "cell_type": "markdown",
   "metadata": {},
   "source": [
    "## 2. The questions I am curious about"
   ]
  },
  {
   "cell_type": "markdown",
   "metadata": {},
   "source": [
    "### 2.1 Top 10 destinations visited by Canadian residents in 2017"
   ]
  },
  {
   "cell_type": "markdown",
   "metadata": {},
   "source": [
    "The following bar plots illustrate that the top three cities visited by Canadian residents in 2017 for either overnight or same day trips are the same: Toronto, Montreal and Ottawa-Gatineau. "
   ]
  },
  {
   "cell_type": "markdown",
   "metadata": {},
   "source": [
    "The top 10 destinations for overnight trips are more diversified in locations than the destinations for same day trips. Five out of top 10 as overnight trip destinations are outside of Ontario and Quebec while only two out of ten as same day trip destinations are outside of the two provinces, that is, Vancouver and Edmonton."
   ]
  },
  {
   "cell_type": "code",
   "execution_count": 196,
   "metadata": {},
   "outputs": [],
   "source": [
    "data_overnight = data[(data['YEAR'] == 2017) &\n",
    "                     (data['Visit duration'] == 'Overnight census metropolitan areas (CMA)  visits') &\n",
    "                     (data['Characteristics'] == 'Number of census metropolitan areas (CMA) visits')]\n",
    "\n",
    "top10_overnight = data_overnight.nlargest(10, ['VALUE']).reset_index()\n",
    "\n",
    "data_SameDay = data[(data['YEAR'] == 2017) &\n",
    "                    (data['Visit duration'] == 'Same day census metropolitan areas (CMA)  visits') &\n",
    "                    (data['Characteristics'] == 'Number of census metropolitan areas (CMA) visits')]\n",
    "\n",
    "top10_SameDay = data_SameDay.nlargest(10, ['VALUE']).reset_index()\n"
   ]
  },
  {
   "cell_type": "code",
   "execution_count": 197,
   "metadata": {},
   "outputs": [
    {
     "data": {
      "image/png": "[encoded data removed]",
      "text/plain": [
       "<Figure size 432x288 with 1 Axes>"
      ]
     },
     "metadata": {},
     "output_type": "display_data"
    }
   ],
   "source": [
    "Value, City = zip(*sorted(zip(top10_overnight.VALUE*1000, top10_overnight.GEO)))\n",
    "plt.barh(City, Value)\n",
    "\n",
    "plt.title('Top 10 destinations visited for overnight visits by Canadians in 2017', fontsize = 16)\n",
    "plt.xticks(np.arange(0, 10000000, 2000000))\n",
    "ax = plt.gca()\n",
    "ax.get_xaxis().set_major_formatter(plt.FuncFormatter(lambda x, loc: \"{:,}\".format(int(x))))"
   ]
  },
  {
   "cell_type": "code",
   "execution_count": 200,
   "metadata": {},
   "outputs": [
    {
     "data": {
      "image/png": "[encoded data removed]",
      "text/plain": [
       "<Figure size 432x288 with 1 Axes>"
      ]
     },
     "metadata": {},
     "output_type": "display_data"
    }
   ],
   "source": [
    "Value, City = zip(*sorted(zip(top10_SameDay.VALUE*1000, top10_SameDay.GEO)))\n",
    "plt.barh(City, Value)\n",
    "\n",
    "plt.title('Top 10 destinations visited for same day visits by Canadians in 2017', fontsize = 16)\n",
    "plt.xticks(np.arange(0, 25000000, 5000000))\n",
    "ax = plt.gca()\n",
    "ax.get_xaxis().set_major_formatter(plt.FuncFormatter(lambda x, loc: \"{:,}\".format(int(x))))"
   ]
  },
  {
   "cell_type": "markdown",
   "metadata": {},
   "source": [
    "Insterestingly, the eight destinations for the same day visits are connected by VIA Rail as part of the Québec City–Windsor Corridor. Definitely, the Corridor railway provided convenience to the same day visitors."
   ]
  },
  {
   "attachments": {
    "ONTARIO-QU%C3%89BEC-corridor.png": {
     "image/png": "[encoded data removed]"
    }
   },
   "cell_type": "markdown",
   "metadata": {},
   "source": [
    "![ONTARIO-QU%C3%89BEC-corridor.png](attachment:ONTARIO-QU%C3%89BEC-corridor.png)\n",
    "\n",
    "<center>Source: VIA Rail Canada</center>"
   ]
  },
  {
   "cell_type": "markdown",
   "metadata": {},
   "source": [
    "### 2.2 Top 10 destinations visited for spending by Canadian residents in 2017"
   ]
  },
  {
   "cell_type": "code",
   "execution_count": null,
   "metadata": {},
   "outputs": [],
   "source": []
  }
 ],
 "metadata": {
  "celltoolbar": "Raw Cell Format",
  "kernelspec": {
   "display_name": "Python 3",
   "language": "python",
   "name": "python3"
  },
  "language_info": {
   "codemirror_mode": {
    "name": "ipython",
    "version": 3
   },
   "file_extension": ".py",
   "mimetype": "text/x-python",
   "name": "python",
   "nbconvert_exporter": "python",
   "pygments_lexer": "ipython3",
   "version": "3.7.1"
  }
 },
 "nbformat": 4,
 "nbformat_minor": 2
}
